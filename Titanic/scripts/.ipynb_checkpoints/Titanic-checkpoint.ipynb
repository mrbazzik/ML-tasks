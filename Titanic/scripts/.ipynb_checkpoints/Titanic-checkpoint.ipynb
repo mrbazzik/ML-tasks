{
 "cells": [
  {
   "cell_type": "code",
   "execution_count": 1,
   "metadata": {
    "collapsed": false
   },
   "outputs": [
    {
     "name": "stdout",
     "output_type": "stream",
     "text": [
      "Populating the interactive namespace from numpy and matplotlib\n"
     ]
    }
   ],
   "source": [
    "import pandas as pd\n",
    "import scipy as sp\n",
    "from sklearn.ensemble import RandomForestClassifier, RandomForestRegressor, AdaBoostClassifier\n",
    "from sklearn.grid_search import GridSearchCV\n",
    "from sklearn.cross_validation import train_test_split,StratifiedShuffleSplit,StratifiedKFold, cross_val_score, KFold\n",
    "from sklearn.tree import DecisionTreeClassifier, export_graphviz\n",
    "import json as js\n",
    "import pickle as pkl\n",
    "from sklearn.preprocessing import Imputer\n",
    "from sklearn.pipeline import Pipeline\n",
    "from scipy  import stats\n",
    "from sklearn import preprocessing\n",
    "from sklearn.decomposition import PCA\n",
    "import re\n",
    "import os\n",
    "from sklearn.externals.six import StringIO\n",
    "import matplotlib.pyplot as plt\n",
    "from sklearn.linear_model import LogisticRegression,RidgeClassifier, Lasso\n",
    "import pydot\n",
    "from sklearn.neighbors import KNeighborsClassifier\n",
    "from sklearn.naive_bayes import GaussianNB,MultinomialNB\n",
    "from sklearn.metrics import roc_curve, auc\n",
    "from sklearn.svm import SVC\n",
    "\n",
    "%pylab inline"
   ]
  },
  {
   "cell_type": "code",
   "execution_count": 2,
   "metadata": {
    "collapsed": true
   },
   "outputs": [],
   "source": [
    "def plotRocCurve(y_true, y_pred, slabel):\n",
    "    fpr, tpr, _ = roc_curve(y_true, y_pred, pos_label=None, sample_weight=None)\n",
    "    plot(fpr, tpr, label = slabel+\" (auc = %0.8f)\"%auc(fpr,tpr))\n",
    "    plot([0,1],[0,1],'k--')\n",
    "    xlim([0.0,1.0])\n",
    "    ylim([0.0,1.0])\n",
    "    xlabel('False positive rate')\n",
    "    ylabel('True positive rate')\n",
    "    title('ROC')\n",
    "    legend(loc=\"lower right\")"
   ]
  },
  {
   "cell_type": "code",
   "execution_count": 3,
   "metadata": {
    "collapsed": true
   },
   "outputs": [],
   "source": [
    "def reFind(str, x, na):\n",
    "    ar = re.compile(str).findall(x)\n",
    "    if len(ar) ==0:\n",
    "        return na\n",
    "    else:\n",
    "        return ar[0]"
   ]
  },
  {
   "cell_type": "code",
   "execution_count": 4,
   "metadata": {
    "collapsed": true
   },
   "outputs": [],
   "source": [
    "def prepareData(df, seed):\n",
    "    \n",
    "    print('cleaning features...')\n",
    "    scaler = preprocessing.StandardScaler()\n",
    "\n",
    "    ##-- Cabin --\n",
    "    df['CabinNA'] = df.Cabin.isnull()\n",
    "    df.Cabin = df.Cabin.fillna('U0')\n",
    "\n",
    "    df['CabinFactor'] = pd.factorize(df.Cabin)[0]\n",
    "\n",
    "    df['CabinLetter'] = df.Cabin.map(lambda x: reFind(\"([a-zA-z]+)\", x, ''))\n",
    "    dum = pd.get_dummies(df.CabinLetter,prefix='CabinLetter')\n",
    "    df = pd.concat([df, dum], 1)\n",
    "    df['CabinLetterFactor'] = df.CabinLetter.map({'A':0,\n",
    "                                                  'B':1,\n",
    "                                                  'C':2,\n",
    "                                                  'D':3,\n",
    "                                                  'E':4,\n",
    "                                                  'F':5,\n",
    "                                                  'G':6,\n",
    "                                                  'T':7,\n",
    "                                                  'U':8})\n",
    "    df['CabinLetterBin'] = df.CabinLetter.map({'A':0,\n",
    "                                                  'B':0,\n",
    "                                                  'C':0,\n",
    "                                                  'D':1,\n",
    "                                                  'E':1,\n",
    "                                                  'F':1,\n",
    "                                                  'G':2,\n",
    "                                                  'T':2,\n",
    "                                                  'U':2})\n",
    "    \n",
    "\n",
    "    df['CabinNumber'] = df.Cabin.map(lambda x: reFind(\"([0-9]+)\", x, '0')).astype(int)\n",
    "    ##df['CabinNumberBin'] = df.CabinNumber.map(lambda x: )\n",
    "    ##df['CabinNumberBin'] = pd.qcut(df.CabinNumber,3)\n",
    "    ##df.CabinNumberBin = pd.factorize(df.CabinNumberBin)[0]\n",
    "    \n",
    "    ##-- Embarked --\n",
    "    df.Embarked = df.Embarked.fillna(df.Embarked.mode()[0])\n",
    "\n",
    "    df['EmbarkedFactor'] = pd.factorize(df.Embarked)[0]\n",
    "\n",
    "    dum = pd.get_dummies(df.Embarked,prefix='Embarked')\n",
    "    df = pd.concat([df, dum], 1)\n",
    "    \n",
    "    ##-- Fare --\n",
    "    fare_med = pd.pivot_table(df,values='Fare', index='Pclass', aggfunc='median')\n",
    "    \n",
    "    df.Fare = df[['Fare','Pclass']].apply(lambda x: fare_med[int(x.Pclass)] if pd.isnull(x.Fare) else x.Fare, 1)\n",
    "\n",
    "##    df['FareScaled'] = scaler.fit_transform(df.Fare)\n",
    "    \n",
    "    df['FareBin'] = pd.qcut(df.Fare,5)\n",
    "    df.FareBin = pd.factorize(df.FareBin)[0]\n",
    "    \n",
    "    ##-- Age --\n",
    "    df['AgeNA'] = df.Age.isnull()\n",
    "    \n",
    "    knownAge = df.loc[df.Age.notnull(),:]\n",
    "    unknownAge = df.loc[df.Age.isnull(),:]\n",
    "    dropCol = ['Age','Survived','Cabin','Embarked','Name','Sex','Ticket','CabinLetter','CabinNumber']\n",
    "    x_train = knownAge.drop(dropCol,1)\n",
    "    y_train = knownAge.Age\n",
    "    x_test = unknownAge.drop(dropCol,1)\n",
    "    rfr = RandomForestRegressor(n_estimators=2000, n_jobs=-1, random_state = seed)\n",
    "    rfr.fit(x_train,y_train)\n",
    "    df.loc[unknownAge.index,'Age'] = rfr.predict(x_test)\n",
    "\n",
    "    \n",
    "##    df['AgeScaled'] = scaler.fit_transform(df.Age)\n",
    "\n",
    "    df['AgeBin'] = pd.qcut(df.Age,5)\n",
    "    df.AgeBin = pd.factorize(df.AgeBin)[0]\n",
    "\n",
    "    ##-- Parch --\n",
    "    ##df['ParchBin']=pd.qcut(df.Parch, 3)\n",
    "    ##df.ParchBin = pd.factorize(df.ParchBin)[0]\n",
    "\n",
    "    ##-- Sex --\n",
    "    df.Sex = pd.factorize(df.Sex)[0]\n",
    "\n",
    "    ##-- SibSp --\n",
    "    ##df['SibSpBin']=pd.qcut(df.SibSp, 2)\n",
    "    ##df.SibSpBin = pd.factorize(df.SibSpBin)[0]\n",
    "    \n",
    "\n",
    "    ##-- Name --\n",
    "    df['NameLen'] = df.Name.map(lambda x: len(re.split(' ',x)))\n",
    "\n",
    "    df['Title'] = df.Name.map(lambda x: re.compile(\", (.*?)\\.\").findall(x)[0])\n",
    "    titles={'Master': ['Jonkheer'],\n",
    "            'Miss': ['Ms', 'Mlle'],\n",
    "            'Mrs': ['Mme'],\n",
    "            'Sir': ['Capt','Don','Major','Col'],\n",
    "            'Lady': ['Dona', 'the Countess']}\n",
    "    df['TitleBin']=df.Title\n",
    "    for i in titles:\n",
    "        df.loc[df.Title.isin(titles[i]),'TitleBin'] = i\n",
    "    dum = pd.get_dummies(df.TitleBin, prefix='Title')\n",
    "    df = pd.concat([df,dum],1)\n",
    "    df.TitleBin = pd.factorize(df.TitleBin)[0]\n",
    "\n",
    "    df['Surname'] = df.Name.map(lambda x: re.split(' ',x)[0])\n",
    "    \n",
    "\n",
    "    ##-- Ticket --\n",
    "    df['TicketPrefix'] = df.Ticket.map(lambda x: reFind(\"([a-zA-z\\.\\/]+)\", x, ''))\n",
    "    df['TicketPrefix'] = df.TicketPrefix.map(lambda x: re.sub(\"[\\.\\/]\",'',x))\n",
    "    dum = pd.get_dummies(df.TicketPrefix, prefix='TicketPrefix')\n",
    "    df = pd.concat([df,dum],1)\n",
    "    df.TicketPrefix = pd.factorize(df.TicketPrefix)[0]\n",
    "\n",
    "    df['TicketNumber'] = df.Ticket.map(lambda x: reFind(\"([\\d]+$)\", x, '0')).astype(int)\n",
    "    df['TicketNumberLen'] = df.TicketNumber.map(lambda x: len(str(x))).astype(int)\n",
    "    df['TicketNumberFD'] = df.TicketNumber.map(lambda x: str(x)[0]).astype(int)\n",
    "\n",
    "    df['TicketNumberBin'] = pd.qcut(df.TicketNumber, 10)\n",
    "    df.TicketNumberBin = pd.factorize(df.TicketNumberBin)[0]\n",
    "\n",
    "\n",
    "    ##-- new features --\n",
    "    print('making new features...')\n",
    "    df['FamilySize'] = df.Parch+df.SibSp\n",
    "    \n",
    "    df['FamilyId'] = df[['FamilySize','Surname']].apply(lambda x: x.Surname+str(x.FamilySize),1)\n",
    "    df.FamilyId = pd.factorize(df.FamilyId)[0]\n",
    "\n",
    "##    columns = ['Pclass','Sex','SibSp','Parch','CabinFactor', 'CabinLetterFactor','CabinNumber','EmbarkedFactor','Fare','Age','NameLen','TitleBin','TicketPrefix','TicketNumber','TicketNumberLen','FamilySize','FamilyId']\n",
    "##    for i,iel in enumerate(columns):\n",
    "##        for j,jel in enumerate(columns):\n",
    "##            if i < j:\n",
    "##                df[iel+\"+\"+jel] = df[iel]+df[jel]\n",
    "##            if i <= j:\n",
    "##                df[iel+\"*\"+jel] = df[iel]*df[jel]\n",
    "##            if i != j:\n",
    "##                df[iel+\"/\"+jel] = df[iel]/df[jel].astype(float)\n",
    "##                df[iel+\"-\"+jel] = df[iel]-df[jel]\n",
    "##\n",
    "    ##y = df.Survived\n",
    "##\n",
    "    df = df.drop(['Cabin', 'Embarked', 'Name', 'Ticket', 'CabinLetter', 'Title', 'Surname'],1)\n",
    "##    \n",
    "##    have_null = sp.sum(pd.isnull(df))\n",
    "##    df = df.drop(have_null[have_null>0].index.tolist(),1)\n",
    "##\n",
    "##    have_inf = [k for k in df.columns if sp.sum(sp.isinf(df[k]))>0]\n",
    "##    df = df.drop(have_inf,1)\n",
    "        \n",
    "    ##-- check correlated features --\n",
    "    ##print('deleting correlated features...')\n",
    "##    df_corr = df.corr(method = 'spearman')\n",
    "##    mask = sp.ones(df_corr.columns.size) - sp.eye(df_corr.columns.size)\n",
    "##    df_corr = df_corr*mask\n",
    "##    dels=[]\n",
    "##    for i in df_corr.columns:\n",
    "##        if i in dels:\n",
    "##            continue\n",
    "##        inds = df_corr.loc[abs(df_corr[i])>=0.98,i].index.tolist()\n",
    "##        for ind in inds:\n",
    "##            if ind not in dels:\n",
    "##                dels.append(ind)\n",
    "##    df = df.drop(dels,1)\n",
    "\n",
    "    \n",
    "    ##-- PCA --\n",
    "##    print('making pca...')\n",
    "##    pca=PCA(0.9999999999)\n",
    "##    Xtrans = pca.fit_transform(df)\n",
    "    ##df = pd.concat([df, y],1)\n",
    "    return df"
   ]
  },
  {
   "cell_type": "markdown",
   "metadata": {},
   "source": [
    "###Reading settings"
   ]
  },
  {
   "cell_type": "code",
   "execution_count": 5,
   "metadata": {
    "collapsed": false
   },
   "outputs": [],
   "source": [
    "config = js.loads(open('../SETTINGS.json').read())\n",
    "train_path = \"../\"+config[\"TRAIN_DATA_PATH\"]\n",
    "test_path = \"../\"+config[\"TEST_DATA_PATH\"]\n",
    "model_path = \"../\"+config[\"MODEL_PATH\"]\n",
    "submit_path = \"../\"+config[\"SUBMISSION_PATH\"]\n",
    "seeed = int(config[\"SEED\"])"
   ]
  },
  {
   "cell_type": "markdown",
   "metadata": {},
   "source": [
    "###Getting data"
   ]
  },
  {
   "cell_type": "code",
   "execution_count": 6,
   "metadata": {
    "collapsed": false
   },
   "outputs": [
    {
     "name": "stdout",
     "output_type": "stream",
     "text": [
      "cleaning features...\n",
      "making new features...\n"
     ]
    }
   ],
   "source": [
    "df_train = pd.read_csv(train_path+\"/train.csv\")\n",
    "df_test = pd.read_csv(test_path+\"/test.csv\")\n",
    "\n",
    "df_full = pd.concat([df_train,df_test])\n",
    "df_full = df_full.reset_index()\n",
    "df_full = df_full.drop('index',1)\n",
    "\n",
    "\n",
    "df_full = prepareData(df_full, seeed)\n",
    "d_train = df_full.loc[df_full.Survived.notnull(),:]\n",
    "\n",
    "x_train = d_train.drop(['Survived','PassengerId'],1)\n",
    "y_train = d_train.Survived\n",
    "\n",
    "x_train, x_test, y_train, y_test = train_test_split(x_train, y_train, test_size=0.2, random_state=seeed)"
   ]
  },
  {
   "cell_type": "markdown",
   "metadata": {
    "collapsed": true
   },
   "source": [
    "###Simple decision tree"
   ]
  },
  {
   "cell_type": "code",
   "execution_count": 7,
   "metadata": {
    "collapsed": false,
    "scrolled": true
   },
   "outputs": [
    {
     "name": "stdout",
     "output_type": "stream",
     "text": [
      "0.77094972067\n"
     ]
    }
   ],
   "source": [
    "dt_cls = DecisionTreeClassifier(criterion='gini', splitter='best', max_depth=None, min_samples_split=5, min_samples_leaf=1, \n",
    "                                min_weight_fraction_leaf=0.0, max_features=None, random_state=seeed, max_leaf_nodes=None, \n",
    "                                class_weight=None)\n",
    "dt_cls.fit(x_train, y_train)\n",
    "print(dt_cls.score(x_test,y_test))\n",
    "\n"
   ]
  },
  {
   "cell_type": "code",
   "execution_count": 9,
   "metadata": {
    "collapsed": false
   },
   "outputs": [
    {
     "name": "stderr",
     "output_type": "stream",
     "text": [
      "[Parallel(n_jobs=4)]: Done   1 jobs       | elapsed:    1.7s\n",
      "[Parallel(n_jobs=4)]: Done  50 jobs       | elapsed:    5.2s\n",
      "[Parallel(n_jobs=4)]: Done 200 jobs       | elapsed:    6.4s\n",
      "[Parallel(n_jobs=4)]: Done 450 jobs       | elapsed:    8.5s\n",
      "[Parallel(n_jobs=4)]: Done 800 jobs       | elapsed:   11.8s\n",
      "[Parallel(n_jobs=4)]: Done 1250 jobs       | elapsed:   16.5s\n",
      "[Parallel(n_jobs=4)]: Done 1800 jobs       | elapsed:   21.8s\n",
      "[Parallel(n_jobs=4)]: Done 2450 jobs       | elapsed:   28.0s\n",
      "[Parallel(n_jobs=4)]: Done 3200 jobs       | elapsed:   35.3s\n",
      "[Parallel(n_jobs=4)]: Done 4050 jobs       | elapsed:   43.5s\n",
      "[Parallel(n_jobs=4)]: Done 5000 jobs       | elapsed:   53.7s\n",
      "[Parallel(n_jobs=4)]: Done 6050 jobs       | elapsed:  1.1min\n",
      "[Parallel(n_jobs=4)]: Done 7200 jobs       | elapsed:  1.3min\n",
      "[Parallel(n_jobs=4)]: Done 8450 jobs       | elapsed:  1.5min\n",
      "[Parallel(n_jobs=4)]: Done 9800 jobs       | elapsed:  1.9min\n",
      "[Parallel(n_jobs=4)]: Done 11250 jobs       | elapsed:  2.2min\n",
      "[Parallel(n_jobs=4)]: Done 12800 jobs       | elapsed:  2.5min\n",
      "[Parallel(n_jobs=4)]: Done 14450 jobs       | elapsed:  2.9min\n",
      "[Parallel(n_jobs=4)]: Done 16200 jobs       | elapsed:  3.4min\n",
      "[Parallel(n_jobs=4)]: Done 18050 jobs       | elapsed:  3.8min\n",
      "[Parallel(n_jobs=4)]: Done 20000 jobs       | elapsed:  4.3min\n",
      "[Parallel(n_jobs=4)]: Done 22050 jobs       | elapsed:  4.8min\n",
      "[Parallel(n_jobs=4)]: Done 24200 jobs       | elapsed:  5.2min\n",
      "[Parallel(n_jobs=4)]: Done 26450 jobs       | elapsed:  5.8min\n",
      "[Parallel(n_jobs=4)]: Done 28800 jobs       | elapsed:  6.4min\n",
      "[Parallel(n_jobs=4)]: Done 31250 jobs       | elapsed:  6.9min\n",
      "[Parallel(n_jobs=4)]: Done 33800 jobs       | elapsed:  7.6min\n",
      "[Parallel(n_jobs=4)]: Done 36450 jobs       | elapsed:  8.2min\n",
      "[Parallel(n_jobs=4)]: Done 39200 jobs       | elapsed:  8.7min\n",
      "[Parallel(n_jobs=4)]: Done 40000 out of 40000 | elapsed:  8.9min finished\n"
     ]
    },
    {
     "name": "stdout",
     "output_type": "stream",
     "text": [
      "Fitting 5 folds for each of 8000 candidates, totalling 40000 fits\n"
     ]
    },
    {
     "data": {
      "text/plain": [
       "GridSearchCV(cv=5, error_score='raise',\n",
       "       estimator=DecisionTreeClassifier(class_weight=None, criterion='gini', max_depth=None,\n",
       "            max_features=None, max_leaf_nodes=None, min_samples_leaf=1,\n",
       "            min_samples_split=5, min_weight_fraction_leaf=0.0,\n",
       "            random_state=1, splitter='best'),\n",
       "       fit_params={}, iid=True, loss_func=None, n_jobs=4,\n",
       "       param_grid={'min_samples_leaf': array([ 1,  2,  3,  4,  5,  6,  7,  8,  9, 10, 11, 12, 13, 14, 15, 16, 17,\n",
       "       18, 19, 20, 21, 22, 23, 24, 25, 26, 27, 28, 29, 30, 31, 32, 33, 34,\n",
       "       35, 36, 37, 38, 39, 40]), 'min_samples_split': array([ 1,  2,  3,  4,  5,  6,  7,  8,  9, 10, 11, 12, 13, 14, 15, 16, 17,\n",
       "       18, 19, 20]), 'max_depth': array([ 1,  2,  3,  4,  5,  6,  7,  8,  9, 10])},\n",
       "       pre_dispatch='2*n_jobs', refit=True, score_func=None, scoring=None,\n",
       "       verbose=1)"
      ]
     },
     "execution_count": 9,
     "metadata": {},
     "output_type": "execute_result"
    }
   ],
   "source": [
    "params={\n",
    "    \"max_depth\": sp.arange(1,11),\n",
    "    \"min_samples_split\": sp.arange(1,21),\n",
    "    \"min_samples_leaf\": sp.arange(1,41)\n",
    "}\n",
    "gs = GridSearchCV(dt_cls, params, scoring=None, loss_func=None, score_func=None, \n",
    "                  fit_params=None, n_jobs=4, iid=True, refit=True, cv=5, verbose=1, \n",
    "                  pre_dispatch='2*n_jobs', error_score='raise')\n",
    "gs.fit(x_train, y_train)"
   ]
  },
  {
   "cell_type": "code",
   "execution_count": 10,
   "metadata": {
    "collapsed": false
   },
   "outputs": [
    {
     "name": "stdout",
     "output_type": "stream",
     "text": [
      "{'min_samples_leaf': 32, 'min_samples_split': 1, 'max_depth': 3}\n",
      "0.823033707865\n"
     ]
    }
   ],
   "source": [
    "print(gs.best_params_)\n",
    "print(gs.best_score_)"
   ]
  },
  {
   "cell_type": "markdown",
   "metadata": {},
   "source": [
    "- best-params: {'max_depth': 3, 'min_samples_leaf': 32, 'min_samples_split': 1}\n",
    "- best-score: 0.8230337078651685"
   ]
  },
  {
   "cell_type": "code",
   "execution_count": 30,
   "metadata": {
    "collapsed": false
   },
   "outputs": [
    {
     "data": {
      "text/plain": [
       "[<matplotlib.lines.Line2D at 0x9cd0b30>]"
      ]
     },
     "execution_count": 30,
     "metadata": {},
     "output_type": "execute_result"
    },
    {
     "data": {
      "image/png": "[encoded data removed]",
      "text/plain": [
       "<matplotlib.figure.Figure at 0x9dced10>"
      ]
     },
     "metadata": {},
     "output_type": "display_data"
    }
   ],
   "source": [
    "min_splits=[]\n",
    "max_depths=[]\n",
    "min_leafs=[]\n",
    "errors = []\n",
    "stds=[]\n",
    "for el in gs.grid_scores_:\n",
    "    min_splits.append(el.parameters['min_samples_split'])\n",
    "    max_depths.append(el.parameters['max_depth'])\n",
    "    min_leafs.append(el.parameters['min_samples_leaf'])\n",
    "    errors.append(el.mean_validation_score)\n",
    "    stds.append(std(el.cv_validation_scores))\n",
    "errdf = pd.DataFrame({\"min_splits\":min_splits, \"max_depths\": max_depths, \"min_leafs\": min_leafs, \"error\": errors, \"std\": stds})\n",
    "errdf.to_csv(\"dt_cls_err.csv\")\n",
    "\n",
    "figure(figsize=(20, 3), dpi=80)\n",
    "subplot(1,3,1)\n",
    "ms = pd.pivot_table(data=errdf, values=[\"error\",\"std\"], index=\"min_splits\", aggfunc=\"mean\")\n",
    "plot(ms.index, ms.error)\n",
    "subplot(1,3,2)\n",
    "ms = pd.pivot_table(data=errdf, values=[\"error\",\"std\"], index=\"max_depths\", aggfunc=\"mean\")\n",
    "plot(ms.index, ms.error)\n",
    "subplot(1,3,3)\n",
    "ms = pd.pivot_table(data=errdf, values=[\"error\",\"std\"], index=\"min_leafs\", aggfunc=\"mean\")\n",
    "plot(ms.index, ms.error)"
   ]
  },
  {
   "cell_type": "code",
   "execution_count": 20,
   "metadata": {
    "collapsed": false
   },
   "outputs": [
    {
     "data": {
      "text/plain": [
       "[<matplotlib.lines.Line2D at 0x5147590>]"
      ]
     },
     "execution_count": 20,
     "metadata": {},
     "output_type": "execute_result"
    },
    {
     "data": {
      "image/png": "[encoded data removed]",
      "text/plain": [
       "<matplotlib.figure.Figure at 0x50b2510>"
      ]
     },
     "metadata": {},
     "output_type": "display_data"
    }
   ],
   "source": [
    "errdf = pd.read_csv(\"dt_cls_err.csv\")\n",
    "figure(figsize=(20, 3), dpi=80)\n",
    "errdf = errdf.rename(columns={'std':'stds'})\n",
    "\n",
    "subplot(1,3,1)\n",
    "\n",
    "ms = pd.pivot_table(data=errdf, values=[\"error\",\"stds\"], index=\"min_splits\", aggfunc=\"mean\")\n",
    "plot(ms.index, ms.error)\n",
    "plot(ms.index, ms.error+2*ms.stds)\n",
    "plot(ms.index, ms.error-2*ms.stds)\n",
    "subplot(1,3,2)\n",
    "ms = pd.pivot_table(data=errdf, values=[\"error\",\"stds\"], index=\"max_depths\", aggfunc=\"mean\")\n",
    "plot(ms.index, ms.error)\n",
    "plot(ms.index, ms.error+2*ms.stds)\n",
    "plot(ms.index, ms.error-2*ms.stds)\n",
    "subplot(1,3,3)\n",
    "ms = pd.pivot_table(data=errdf, values=[\"error\",\"stds\"], index=\"min_leafs\", aggfunc=\"mean\")\n",
    "plot(ms.index, ms.error)\n",
    "plot(ms.index, ms.error+2*ms.stds)\n",
    "plot(ms.index, ms.error-2*ms.stds)"
   ]
  },
  {
   "cell_type": "code",
   "execution_count": 31,
   "metadata": {
    "collapsed": false
   },
   "outputs": [
    {
     "data": {
      "text/plain": [
       "0.7988826815642458"
      ]
     },
     "execution_count": 31,
     "metadata": {},
     "output_type": "execute_result"
    }
   ],
   "source": [
    "gs.score(x_test,y_test)"
   ]
  },
  {
   "cell_type": "code",
   "execution_count": 13,
   "metadata": {
    "collapsed": false
   },
   "outputs": [
    {
     "data": {
      "image/png": "[encoded data removed]",
      "text/plain": [
       "<matplotlib.figure.Figure at 0x8d848b0>"
      ]
     },
     "metadata": {},
     "output_type": "display_data"
    }
   ],
   "source": [
    "dt_cls = DecisionTreeClassifier(criterion='gini', splitter='best', max_depth=3, min_samples_split=1, min_samples_leaf=32, \n",
    "                                min_weight_fraction_leaf=0.0, max_features=None, random_state=seeed, max_leaf_nodes=None, \n",
    "                                class_weight=None)\n",
    "dt_cls.fit(x_train,y_train)\n",
    "y_pred = dt_cls.predict_proba(x_test)\n",
    "y_pred = [y_pred[i,1] for i in sp.arange(0,len(y_pred))]\n",
    "plotRocCurve(y_test,y_pred) "
   ]
  },
  {
   "cell_type": "markdown",
   "metadata": {},
   "source": [
    "###Random forest"
   ]
  },
  {
   "cell_type": "code",
   "execution_count": 38,
   "metadata": {
    "collapsed": false
   },
   "outputs": [
    {
     "name": "stderr",
     "output_type": "stream",
     "text": [
      "[Parallel(n_jobs=1)]: Done   1 jobs       | elapsed:    0.0s\n",
      "[Parallel(n_jobs=1)]: Done  50 jobs       | elapsed:   24.4s\n",
      "[Parallel(n_jobs=1)]: Done 200 jobs       | elapsed:  2.9min\n",
      "[Parallel(n_jobs=1)]: Done 450 jobs       | elapsed:  8.4min\n",
      "[Parallel(n_jobs=1)]: Done 800 jobs       | elapsed: 18.0min\n",
      "[Parallel(n_jobs=1)]: Done 900 out of 900 | elapsed: 22.0min finished\n"
     ]
    },
    {
     "name": "stdout",
     "output_type": "stream",
     "text": [
      "Fitting 5 folds for each of 180 candidates, totalling 900 fits\n"
     ]
    },
    {
     "data": {
      "text/plain": [
       "GridSearchCV(cv=5, error_score='raise',\n",
       "       estimator=RandomForestClassifier(bootstrap=True, class_weight=None, criterion='gini',\n",
       "            max_depth=3, max_features='auto', max_leaf_nodes=None,\n",
       "            min_samples_leaf=1, min_samples_split=1,\n",
       "            min_weight_fraction_leaf=0.0, n_estimators=10, n_jobs=1,\n",
       "            oob_score=False, random_state=1, verbose=0, warm_start=False),\n",
       "       fit_params={}, iid=True, loss_func=None, n_jobs=1,\n",
       "       param_grid={'n_estimators': [10, 50, 100, 200, 500, 1000], 'max_features': ['sqrt', 'log2', None], 'max_depth': array([ 1,  2,  3,  4,  5,  6,  7,  8,  9, 10])},\n",
       "       pre_dispatch='2*n_jobs', refit=True, score_func=None, scoring=None,\n",
       "       verbose=1)"
      ]
     },
     "execution_count": 38,
     "metadata": {},
     "output_type": "execute_result"
    }
   ],
   "source": [
    "rf_cls = RandomForestClassifier(n_estimators=10, criterion='gini', max_depth=None, min_samples_split=1, \n",
    "                                min_samples_leaf=1, min_weight_fraction_leaf=0.0, max_features='auto', \n",
    "                                max_leaf_nodes=None, bootstrap=True, oob_score=False, n_jobs=1, random_state=seeed, \n",
    "                                verbose=0, warm_start=False, class_weight=None)\n",
    "params={\n",
    "    \"n_estimators\": [10,50,100,200,500,1000],\n",
    "    \"max_features\": ['sqrt','log2', None],\n",
    "    \"max_depth\": sp.arange(1,11)\n",
    "}\n",
    "gs = GridSearchCV(rf_cls, params, scoring=None, loss_func=None, score_func=None, \n",
    "                  fit_params=None, n_jobs=1, iid=True, refit=True, cv=5, verbose=1, \n",
    "                  pre_dispatch='2*n_jobs', error_score='raise')\n",
    "gs.fit(x_train,y_train)"
   ]
  },
  {
   "cell_type": "code",
   "execution_count": 39,
   "metadata": {
    "collapsed": false
   },
   "outputs": [
    {
     "name": "stdout",
     "output_type": "stream",
     "text": [
      "{'n_estimators': 50, 'max_features': 'sqrt', 'max_depth': 6}\n",
      "0.84691011236\n"
     ]
    }
   ],
   "source": [
    "print(gs.best_params_)\n",
    "print(gs.best_score_)"
   ]
  },
  {
   "cell_type": "code",
   "execution_count": 40,
   "metadata": {
    "collapsed": true
   },
   "outputs": [],
   "source": [
    "n_est=[]\n",
    "max_f=[]\n",
    "errors = []\n",
    "stds=[]\n",
    "for el in gs.grid_scores_:\n",
    "    n_est.append(el.parameters['n_estimators'])\n",
    "    max_f.append(el.parameters['max_features'])\n",
    "    errors.append(el.mean_validation_score)\n",
    "    stds.append(std(el.cv_validation_scores))\n",
    "errdf = pd.DataFrame({\"n_est\":n_est, \"max_f\": max_f, \"error\": errors, \"stds\": stds})\n",
    "errdf.to_csv(\"rf_cls_err.csv\")"
   ]
  },
  {
   "cell_type": "code",
   "execution_count": 56,
   "metadata": {
    "collapsed": false
   },
   "outputs": [
    {
     "data": {
      "text/plain": [
       "[<matplotlib.lines.Line2D at 0xa178050>]"
      ]
     },
     "execution_count": 56,
     "metadata": {},
     "output_type": "execute_result"
    },
    {
     "data": {
      "image/png": "[encoded data removed]",
      "text/plain": [
       "<matplotlib.figure.Figure at 0x9edf2f0>"
      ]
     },
     "metadata": {},
     "output_type": "display_data"
    }
   ],
   "source": [
    "\n",
    "figure(figsize=(20, 3), dpi=80)\n",
    "subplot(1,3,1)\n",
    "err1 = errdf.loc[errdf.max_f=='sqrt',:]\n",
    "err1 = pd.pivot_table(data=err1, values=['error','stds'], index='n_est', aggfunc='mean')\n",
    "plot(err1.index, err1.error)\n",
    "plot(err1.index, err1.error+2*err1.stds)\n",
    "plot(err1.index, err1.error-2*err1.stds)\n",
    "subplot(1,3,2)\n",
    "err1 = errdf.loc[errdf.max_f=='log2',:]\n",
    "err1 = pd.pivot_table(data=err1, values=['error','stds'], index='n_est', aggfunc='mean')\n",
    "plot(err1.index, err1.error)\n",
    "plot(err1.index, err1.error+2*err1.stds)\n",
    "plot(err1.index, err1.error-2*err1.stds)\n",
    "subplot(1,3,3)\n",
    "err1 = errdf.loc[~errdf.max_f.isin(['sqrt','log2']),:]\n",
    "err1 = pd.pivot_table(data=err1, values=['error','stds'], index='n_est', aggfunc='mean')\n",
    "plot(err1.index, err1.error)\n",
    "plot(err1.index, err1.error+2*err1.stds)\n",
    "plot(err1.index, err1.error-2*err1.stds)"
   ]
  },
  {
   "cell_type": "code",
   "execution_count": 49,
   "metadata": {
    "collapsed": false
   },
   "outputs": [
    {
     "name": "stdout",
     "output_type": "stream",
     "text": [
      "0.798882681564\n"
     ]
    }
   ],
   "source": [
    "print(gs.score(x_test,y_test))"
   ]
  },
  {
   "cell_type": "markdown",
   "metadata": {},
   "source": [
    "###Boosting"
   ]
  },
  {
   "cell_type": "code",
   "execution_count": 6,
   "metadata": {
    "collapsed": false
   },
   "outputs": [
    {
     "name": "stderr",
     "output_type": "stream",
     "text": [
      "[Parallel(n_jobs=1)]: Done   1 jobs       | elapsed:    3.4s\n",
      "[Parallel(n_jobs=1)]: Done  50 jobs       | elapsed:  3.9min\n"
     ]
    },
    {
     "name": "stdout",
     "output_type": "stream",
     "text": [
      "Fitting 5 folds for each of 11 candidates, totalling 55 fits\n"
     ]
    },
    {
     "name": "stderr",
     "output_type": "stream",
     "text": [
      "[Parallel(n_jobs=1)]: Done  55 out of  55 | elapsed:  7.3min finished\n"
     ]
    },
    {
     "data": {
      "text/plain": [
       "GridSearchCV(cv=5, error_score='raise',\n",
       "       estimator=AdaBoostClassifier(algorithm='SAMME.R', base_estimator=None,\n",
       "          learning_rate=1.0, n_estimators=1000, random_state=1),\n",
       "       fit_params={}, iid=True, loss_func=None, n_jobs=1,\n",
       "       param_grid={'learning_rate': [0.0001, 0.0003, 0.001, 0.003, 0.01, 0.03, 0.1, 0.3, 1, 3, 10]},\n",
       "       pre_dispatch='2*n_jobs', refit=True, score_func=None, scoring=None,\n",
       "       verbose=1)"
      ]
     },
     "execution_count": 6,
     "metadata": {},
     "output_type": "execute_result"
    }
   ],
   "source": [
    "ada_cls = AdaBoostClassifier(base_estimator=None, n_estimators=1000, learning_rate=1.0, algorithm='SAMME.R', random_state=seeed)\n",
    "params={\n",
    "    ##\"n_estimators\": [10,50,100,200,500,1000],\n",
    "    \"learning_rate\": [0.0001,0.0003,0.001,0.003,0.01,0.03,0.1,0.3,1,3,10]\n",
    "}\n",
    "gs = GridSearchCV(ada_cls, params, scoring=None, loss_func=None, score_func=None, \n",
    "                  fit_params=None, n_jobs=1, iid=True, refit=True, cv=5, verbose=1, \n",
    "                  pre_dispatch='2*n_jobs', error_score='raise')\n",
    "gs.fit(x_train,y_train)"
   ]
  },
  {
   "cell_type": "code",
   "execution_count": 7,
   "metadata": {
    "collapsed": false
   },
   "outputs": [
    {
     "name": "stdout",
     "output_type": "stream",
     "text": [
      "{'learning_rate': 0.1}\n",
      "0.835674157303\n"
     ]
    }
   ],
   "source": [
    "print(gs.best_params_)\n",
    "print(gs.best_score_)"
   ]
  },
  {
   "cell_type": "code",
   "execution_count": 8,
   "metadata": {
    "collapsed": false
   },
   "outputs": [
    {
     "name": "stdout",
     "output_type": "stream",
     "text": [
      "0.804469273743\n"
     ]
    }
   ],
   "source": [
    "print(gs.score(x_test,y_test))"
   ]
  },
  {
   "cell_type": "markdown",
   "metadata": {},
   "source": [
    "###Logistic regression"
   ]
  },
  {
   "cell_type": "code",
   "execution_count": 10,
   "metadata": {
    "collapsed": false
   },
   "outputs": [
    {
     "name": "stderr",
     "output_type": "stream",
     "text": [
      "[Parallel(n_jobs=1)]: Done   1 jobs       | elapsed:    0.0s\n",
      "[Parallel(n_jobs=1)]: Done  50 jobs       | elapsed:    0.9s\n"
     ]
    },
    {
     "name": "stdout",
     "output_type": "stream",
     "text": [
      "Fitting 5 folds for each of 16 candidates, totalling 80 fits\n"
     ]
    },
    {
     "name": "stderr",
     "output_type": "stream",
     "text": [
      "[Parallel(n_jobs=1)]: Done  80 out of  80 | elapsed:    4.8s finished\n"
     ]
    },
    {
     "data": {
      "text/plain": [
       "GridSearchCV(cv=5, error_score='raise',\n",
       "       estimator=LogisticRegression(C=1.0, class_weight=None, dual=False, fit_intercept=True,\n",
       "          intercept_scaling=1, max_iter=100, multi_class='ovr',\n",
       "          penalty='l2', random_state=None, solver='liblinear', tol=0.0001,\n",
       "          verbose=0),\n",
       "       fit_params={}, iid=True, loss_func=None, n_jobs=1,\n",
       "       param_grid={'penalty': ['l1', 'l2'], 'C': [0.0001, 0.001, 0.01, 0.1, 1, 5, 7, 10]},\n",
       "       pre_dispatch='2*n_jobs', refit=True, score_func=None, scoring=None,\n",
       "       verbose=1)"
      ]
     },
     "execution_count": 10,
     "metadata": {},
     "output_type": "execute_result"
    }
   ],
   "source": [
    "scaler = preprocessing.StandardScaler()\n",
    "x_train_scale = scaler.fit_transform(x_train)\n",
    "rg_cls = LogisticRegression(penalty='l2', dual=False, tol=0.0001, C=1.0, fit_intercept=True, \n",
    "                            intercept_scaling=1, class_weight=None, random_state=None, solver='liblinear', \n",
    "                            max_iter=100, multi_class='ovr', verbose=0)\n",
    "params={\n",
    "    \"penalty\": ['l1','l2'],\n",
    "    \"C\": [0.0001,0.001,0.01,0.1,1,5,7,10]\n",
    "}\n",
    "gs = GridSearchCV(rg_cls, params, scoring=None, loss_func=None, score_func=None, \n",
    "                  fit_params=None, n_jobs=1, iid=True, refit=True, cv=5, verbose=1, \n",
    "                  pre_dispatch='2*n_jobs', error_score='raise')\n",
    "gs.fit(x_train_scale,y_train)"
   ]
  },
  {
   "cell_type": "code",
   "execution_count": 16,
   "metadata": {
    "collapsed": false
   },
   "outputs": [
    {
     "name": "stdout",
     "output_type": "stream",
     "text": [
      "{'penalty': 'l1', 'C': 5}\n",
      "0.825842696629\n"
     ]
    },
    {
     "data": {
      "text/plain": [
       "0.74860335195530725"
      ]
     },
     "execution_count": 16,
     "metadata": {},
     "output_type": "execute_result"
    }
   ],
   "source": [
    "print(gs.best_params_)\n",
    "print(gs.best_score_)\n",
    "gs.score(x_test,y_test)"
   ]
  },
  {
   "cell_type": "code",
   "execution_count": 17,
   "metadata": {
    "collapsed": false
   },
   "outputs": [
    {
     "data": {
      "text/plain": [
       "[<matplotlib.lines.Line2D at 0x400ea10>]"
      ]
     },
     "execution_count": 17,
     "metadata": {},
     "output_type": "execute_result"
    },
    {
     "data": {
      "image/png": "[encoded data removed]",
      "text/plain": [
       "<matplotlib.figure.Figure at 0x3edaab0>"
      ]
     },
     "metadata": {},
     "output_type": "display_data"
    }
   ],
   "source": [
    "pen=[]\n",
    "cs=[]\n",
    "errors = []\n",
    "stds=[]\n",
    "for el in gs.grid_scores_:\n",
    "    pen.append(el.parameters['penalty'])\n",
    "    cs.append(el.parameters['C'])\n",
    "    errors.append(el.mean_validation_score)\n",
    "    stds.append(std(el.cv_validation_scores))\n",
    "errdf = pd.DataFrame({\"pen\":pen, \"cs\": cs, \"error\": errors, \"stds\": stds})\n",
    "\n",
    "errdf = errdf.loc[errdf.pen=='l1',:]\n",
    "plot(errdf.cs,errdf.error)"
   ]
  },
  {
   "cell_type": "code",
   "execution_count": 15,
   "metadata": {
    "collapsed": false
   },
   "outputs": [
    {
     "name": "stderr",
     "output_type": "stream",
     "text": [
      "[Parallel(n_jobs=1)]: Done   1 jobs       | elapsed:    0.0s\n",
      "[Parallel(n_jobs=1)]: Done  50 jobs       | elapsed:    0.8s\n"
     ]
    },
    {
     "name": "stdout",
     "output_type": "stream",
     "text": [
      "Fitting 5 folds for each of 11 candidates, totalling 55 fits\n"
     ]
    },
    {
     "name": "stderr",
     "output_type": "stream",
     "text": [
      "[Parallel(n_jobs=1)]: Done  55 out of  55 | elapsed:    0.9s finished\n"
     ]
    },
    {
     "data": {
      "text/plain": [
       "GridSearchCV(cv=5, error_score='raise',\n",
       "       estimator=RidgeClassifier(alpha=1.0, class_weight=None, copy_X=True, fit_intercept=True,\n",
       "        max_iter=None, normalize=False, solver='auto', tol=0.001),\n",
       "       fit_params={}, iid=True, loss_func=None, n_jobs=1,\n",
       "       param_grid={'alpha': [0.0001, 0.0003, 0.001, 0.003, 0.01, 0.03, 0.1, 0.3, 1, 3, 10]},\n",
       "       pre_dispatch='2*n_jobs', refit=True, score_func=None, scoring=None,\n",
       "       verbose=1)"
      ]
     },
     "execution_count": 15,
     "metadata": {},
     "output_type": "execute_result"
    }
   ],
   "source": [
    "rd_cls = RidgeClassifier(alpha=1.0, fit_intercept=True, normalize=False, copy_X=True, max_iter=None, \n",
    "                         tol=0.001, class_weight=None, solver='auto')\n",
    "params={\n",
    "    \"alpha\": [0.0001,0.0003, 0.001,0.003,0.01,0.03,0.1,0.3,1,3,10]\n",
    "}\n",
    "gs = GridSearchCV(rd_cls, params, scoring=None, loss_func=None, score_func=None, \n",
    "                  fit_params=None, n_jobs=1, iid=True, refit=True, cv=5, verbose=1, \n",
    "                  pre_dispatch='2*n_jobs', error_score='raise')\n",
    "gs.fit(x_train,y_train)"
   ]
  },
  {
   "cell_type": "code",
   "execution_count": 16,
   "metadata": {
    "collapsed": false
   },
   "outputs": [
    {
     "name": "stdout",
     "output_type": "stream",
     "text": [
      "{'alpha': 0.03}\n",
      "0.832865168539\n"
     ]
    },
    {
     "data": {
      "text/plain": [
       "0.7988826815642458"
      ]
     },
     "execution_count": 16,
     "metadata": {},
     "output_type": "execute_result"
    }
   ],
   "source": [
    "print(gs.best_params_)\n",
    "print(gs.best_score_)\n",
    "gs.score(x_test,y_test)"
   ]
  },
  {
   "cell_type": "code",
   "execution_count": 25,
   "metadata": {
    "collapsed": false,
    "scrolled": true
   },
   "outputs": [
    {
     "name": "stderr",
     "output_type": "stream",
     "text": [
      "[Parallel(n_jobs=1)]: Done   1 jobs       | elapsed:    0.0s\n",
      "[Parallel(n_jobs=1)]: Done  50 jobs       | elapsed:    3.2s\n"
     ]
    },
    {
     "name": "stdout",
     "output_type": "stream",
     "text": [
      "Fitting 5 folds for each of 11 candidates, totalling 55 fits\n"
     ]
    },
    {
     "name": "stderr",
     "output_type": "stream",
     "text": [
      "[Parallel(n_jobs=1)]: Done  55 out of  55 | elapsed:    3.3s finished\n"
     ]
    },
    {
     "data": {
      "text/plain": [
       "GridSearchCV(cv=5, error_score='raise',\n",
       "       estimator=Lasso(alpha=1.0, copy_X=True, fit_intercept=True, max_iter=10000,\n",
       "   normalize=False, positive=False, precompute=False, random_state=1,\n",
       "   selection='cyclic', tol=0.0001, warm_start=False),\n",
       "       fit_params={}, iid=True, loss_func=None, n_jobs=1,\n",
       "       param_grid={'alpha': [0.0001, 0.0003, 0.001, 0.003, 0.01, 0.03, 0.1, 0.3, 1, 3, 10]},\n",
       "       pre_dispatch='2*n_jobs', refit=True, score_func=None, scoring=None,\n",
       "       verbose=1)"
      ]
     },
     "execution_count": 25,
     "metadata": {},
     "output_type": "execute_result"
    }
   ],
   "source": [
    "la_cls = Lasso(alpha=1.0, fit_intercept=True, normalize=False, precompute=False, copy_X=True, \n",
    "               max_iter=10000, tol=0.0001, warm_start=False, positive=False, random_state=seeed, selection='cyclic')\n",
    "params={\n",
    "    \"alpha\": [0.0001,0.0003, 0.001,0.003,0.01,0.03,0.1,0.3,1,3,10]\n",
    "}\n",
    "gs = GridSearchCV(la_cls, params, scoring=None, loss_func=None, score_func=None, \n",
    "                  fit_params=None, n_jobs=1, iid=True, refit=True, cv=5, verbose=1, \n",
    "                  pre_dispatch='2*n_jobs', error_score='raise')\n",
    "gs.fit(x_train,y_train)"
   ]
  },
  {
   "cell_type": "code",
   "execution_count": 27,
   "metadata": {
    "collapsed": false
   },
   "outputs": [
    {
     "name": "stdout",
     "output_type": "stream",
     "text": [
      "{'alpha': 0.001}\n",
      "0.439538392646\n"
     ]
    },
    {
     "data": {
      "text/plain": [
       "0.30627256268932224"
      ]
     },
     "execution_count": 27,
     "metadata": {},
     "output_type": "execute_result"
    }
   ],
   "source": [
    "print(gs.best_params_)\n",
    "print(gs.best_score_)\n",
    "gs.score(x_test,y_test)"
   ]
  },
  {
   "cell_type": "markdown",
   "metadata": {},
   "source": [
    "###KNN"
   ]
  },
  {
   "cell_type": "code",
   "execution_count": 32,
   "metadata": {
    "collapsed": false
   },
   "outputs": [
    {
     "name": "stderr",
     "output_type": "stream",
     "text": [
      "[Parallel(n_jobs=1)]: Done   1 jobs       | elapsed:    0.0s\n",
      "[Parallel(n_jobs=1)]: Done  50 jobs       | elapsed:    1.2s\n",
      "[Parallel(n_jobs=1)]: Done 200 jobs       | elapsed:    5.2s\n",
      "[Parallel(n_jobs=1)]: Done 450 jobs       | elapsed:   12.3s\n"
     ]
    },
    {
     "name": "stdout",
     "output_type": "stream",
     "text": [
      "Fitting 5 folds for each of 100 candidates, totalling 500 fits\n"
     ]
    },
    {
     "name": "stderr",
     "output_type": "stream",
     "text": [
      "[Parallel(n_jobs=1)]: Done 500 out of 500 | elapsed:   13.8s finished\n"
     ]
    },
    {
     "data": {
      "text/plain": [
       "GridSearchCV(cv=5, error_score='raise',\n",
       "       estimator=KNeighborsClassifier(algorithm='auto', leaf_size=30, metric='minkowski',\n",
       "           metric_params=None, n_neighbors=5, p=2, weights='uniform'),\n",
       "       fit_params={}, iid=True, loss_func=None, n_jobs=1,\n",
       "       param_grid={'p': [1, 2, 3, 4, 5], 'n_neighbors': array([ 1,  2,  3,  4,  5,  6,  7,  8,  9, 10, 11, 12, 13, 14, 15, 16, 17,\n",
       "       18, 19, 20])},\n",
       "       pre_dispatch='2*n_jobs', refit=True, score_func=None, scoring=None,\n",
       "       verbose=1)"
      ]
     },
     "execution_count": 32,
     "metadata": {},
     "output_type": "execute_result"
    }
   ],
   "source": [
    "kn_cls = KNeighborsClassifier(n_neighbors=5, weights='uniform', algorithm='auto', leaf_size=30, p=2, \n",
    "                     metric='minkowski', metric_params=None)\n",
    "params={\n",
    "    \"n_neighbors\": sp.arange(1,21),\n",
    "    \"p\": [1,2,3,4,5],\n",
    "}\n",
    "gs = GridSearchCV(kn_cls, params, scoring=None, loss_func=None, score_func=None, \n",
    "                  fit_params=None, n_jobs=1, iid=True, refit=True, cv=5, verbose=1, \n",
    "                  pre_dispatch='2*n_jobs', error_score='raise')\n",
    "gs.fit(x_train,y_train)"
   ]
  },
  {
   "cell_type": "code",
   "execution_count": 33,
   "metadata": {
    "collapsed": false
   },
   "outputs": [
    {
     "name": "stdout",
     "output_type": "stream",
     "text": [
      "{'p': 1, 'n_neighbors': 6}\n",
      "0.682584269663\n"
     ]
    },
    {
     "data": {
      "text/plain": [
       "0.59217877094972071"
      ]
     },
     "execution_count": 33,
     "metadata": {},
     "output_type": "execute_result"
    }
   ],
   "source": [
    "print(gs.best_params_)\n",
    "print(gs.best_score_)\n",
    "gs.score(x_test,y_test)"
   ]
  },
  {
   "cell_type": "markdown",
   "metadata": {},
   "source": [
    "###Naive Bayes"
   ]
  },
  {
   "cell_type": "code",
   "execution_count": 35,
   "metadata": {
    "collapsed": false
   },
   "outputs": [
    {
     "data": {
      "text/plain": [
       "0.50837988826815639"
      ]
     },
     "execution_count": 35,
     "metadata": {},
     "output_type": "execute_result"
    }
   ],
   "source": [
    "nbg = GaussianNB()\n",
    "nbg.fit(x_train,y_train)\n",
    "nbg.score(x_test,y_test)"
   ]
  },
  {
   "cell_type": "code",
   "execution_count": 38,
   "metadata": {
    "collapsed": false
   },
   "outputs": [
    {
     "name": "stderr",
     "output_type": "stream",
     "text": [
      "[Parallel(n_jobs=1)]: Done   1 jobs       | elapsed:    0.0s\n",
      "[Parallel(n_jobs=1)]: Done  35 out of  35 | elapsed:    0.4s finished\n"
     ]
    },
    {
     "name": "stdout",
     "output_type": "stream",
     "text": [
      "Fitting 5 folds for each of 7 candidates, totalling 35 fits\n",
      "{'alpha': 0}\n",
      "0.622191011236\n"
     ]
    },
    {
     "data": {
      "text/plain": [
       "0.59217877094972071"
      ]
     },
     "execution_count": 38,
     "metadata": {},
     "output_type": "execute_result"
    }
   ],
   "source": [
    "mnb = MultinomialNB(alpha=1.0, fit_prior=True, class_prior=None)\n",
    "params={\n",
    "    \"alpha\": [0,0.0001,0.001,0.01,0.1,1,10]\n",
    "    \n",
    "}\n",
    "gs = GridSearchCV(mnb, params, scoring=None, loss_func=None, score_func=None, \n",
    "                  fit_params=None, n_jobs=1, iid=True, refit=True, cv=5, verbose=1, \n",
    "                  pre_dispatch='2*n_jobs', error_score='raise')\n",
    "gs.fit(x_train,y_train)\n",
    "print(gs.best_params_)\n",
    "print(gs.best_score_)\n",
    "gs.score(x_test,y_test)"
   ]
  },
  {
   "cell_type": "markdown",
   "metadata": {},
   "source": [
    "###SVM"
   ]
  },
  {
   "cell_type": "code",
   "execution_count": 8,
   "metadata": {
    "collapsed": false
   },
   "outputs": [
    {
     "name": "stderr",
     "output_type": "stream",
     "text": [
      "[Parallel(n_jobs=1)]: Done   1 jobs       | elapsed:    0.0s\n",
      "[Parallel(n_jobs=1)]: Done  50 jobs       | elapsed:    3.1s\n",
      "[Parallel(n_jobs=1)]: Done 200 jobs       | elapsed:   14.3s\n",
      "[Parallel(n_jobs=1)]: Done 450 jobs       | elapsed:   39.2s\n"
     ]
    },
    {
     "name": "stdout",
     "output_type": "stream",
     "text": [
      "Fitting 5 folds for each of 132 candidates, totalling 660 fits\n",
      "{'C': 1, 'gamma': 0.0001}\n",
      "0.674157303371\n"
     ]
    },
    {
     "name": "stderr",
     "output_type": "stream",
     "text": [
      "[Parallel(n_jobs=1)]: Done 660 out of 660 | elapsed:  1.0min finished\n"
     ]
    },
    {
     "data": {
      "text/plain": [
       "0.64245810055865926"
      ]
     },
     "execution_count": 8,
     "metadata": {},
     "output_type": "execute_result"
    }
   ],
   "source": [
    "sv_cls = SVC(C=1.0, kernel='rbf', degree=3, gamma=0.0, coef0=0.0, shrinking=True, probability=False, \n",
    "         tol=0.001, cache_size=200, class_weight=None, verbose=False, max_iter=-1, random_state=None)\n",
    "params={\n",
    "    \"C\": [0.0001,0.0003, 0.001,0.003,0.01,0.03,0.1,0.3,1,3,10],\n",
    "    \"gamma\": [0,0.0001,0.0003, 0.001,0.003,0.01,0.03,0.1,0.3,1,3,10]\n",
    "\n",
    "}\n",
    "gs = GridSearchCV(sv_cls, params, scoring=None, loss_func=None, score_func=None, \n",
    "                  fit_params=None, n_jobs=1, iid=True, refit=True, cv=5, verbose=1, pre_dispatch='2*n_jobs', error_score='raise')\n",
    "\n",
    "gs.fit(x_train,y_train)\n",
    "print(gs.best_params_)\n",
    "print(gs.best_score_)\n",
    "gs.score(x_test,y_test)"
   ]
  },
  {
   "cell_type": "code",
   "execution_count": 7,
   "metadata": {
    "collapsed": false
   },
   "outputs": [
    {
     "name": "stderr",
     "output_type": "stream",
     "text": [
      "[Parallel(n_jobs=1)]: Done   1 jobs       | elapsed:    0.0s\n",
      "[Parallel(n_jobs=1)]: Done  50 jobs       | elapsed:    4.0s\n",
      "[Parallel(n_jobs=1)]: Done 200 jobs       | elapsed:   17.8s\n",
      "[Parallel(n_jobs=1)]: Done 450 jobs       | elapsed:   39.6s\n"
     ]
    },
    {
     "name": "stdout",
     "output_type": "stream",
     "text": [
      "Fitting 5 folds for each of 132 candidates, totalling 660 fits\n",
      "{'C': 10, 'gamma': 0.001}\n",
      "0.623595505618\n"
     ]
    },
    {
     "name": "stderr",
     "output_type": "stream",
     "text": [
      "[Parallel(n_jobs=1)]: Done 660 out of 660 | elapsed:   58.9s finished\n"
     ]
    },
    {
     "data": {
      "text/plain": [
       "0.5977653631284916"
      ]
     },
     "execution_count": 7,
     "metadata": {},
     "output_type": "execute_result"
    }
   ],
   "source": [
    "sv_cls = SVC(C=1.0, kernel='sigmoid', degree=3, gamma=0.0, coef0=0.0, shrinking=True, probability=False, \n",
    "         tol=0.001, cache_size=200, class_weight=None, verbose=False, max_iter=-1, random_state=None)\n",
    "params={\n",
    "    \"C\": [0.0001,0.0003, 0.001,0.003,0.01,0.03,0.1,0.3,1,3,10],\n",
    "    \"gamma\": [0,0.0001,0.0003, 0.001,0.003,0.01,0.03,0.1,0.3,1,3,10]\n",
    "\n",
    "}\n",
    "gs = GridSearchCV(sv_cls, params, scoring=None, loss_func=None, score_func=None, \n",
    "                  fit_params=None, n_jobs=1, iid=True, refit=True, cv=5, verbose=1, pre_dispatch='2*n_jobs', error_score='raise')\n",
    "\n",
    "gs.fit(x_train,y_train)\n",
    "print(gs.best_params_)\n",
    "print(gs.best_score_)\n",
    "gs.score(x_test,y_test)"
   ]
  },
  {
   "cell_type": "markdown",
   "metadata": {},
   "source": [
    "###Combining and comparing predictors"
   ]
  },
  {
   "cell_type": "code",
   "execution_count": 9,
   "metadata": {
    "collapsed": false
   },
   "outputs": [],
   "source": [
    "ada_cls = AdaBoostClassifier(base_estimator=None, n_estimators=1000, learning_rate=0.1, algorithm='SAMME.R', random_state=seeed)\n",
    "\n",
    "rd_cls = RidgeClassifier(alpha=0.03, fit_intercept=True, normalize=False, copy_X=True, max_iter=None, \n",
    "                         tol=0.001, class_weight=None, solver='auto')\n",
    "\n",
    "rf_cls = RandomForestClassifier(n_estimators=50, criterion='gini', max_depth=6, min_samples_split=1, \n",
    "                                min_samples_leaf=1, min_weight_fraction_leaf=0.0, max_features='sqrt', \n",
    "                                max_leaf_nodes=None, bootstrap=True, oob_score=False, n_jobs=1, random_state=seeed, \n",
    "                                verbose=0, warm_start=False, class_weight=None)\n",
    "sv_cls = SVC(C=1.0, kernel='rbf', degree=3, gamma=0.0001, coef0=0.0, shrinking=True, probability=False, \n",
    "         tol=0.001, cache_size=200, class_weight=None, verbose=False, max_iter=-1, random_state=None)"
   ]
  },
  {
   "cell_type": "code",
   "execution_count": 16,
   "metadata": {
    "collapsed": false
   },
   "outputs": [
    {
     "name": "stdout",
     "output_type": "stream",
     "text": [
      "0.830531667817 0.0268897437968\n",
      "0.82716715837 0.032017200134\n"
     ]
    }
   ],
   "source": [
    "kf = KFold(len(x_train), n_folds=5, indices=None, shuffle=False, random_state=seeed)\n",
    "\n",
    "errors={'out':[],'outp':[]}\n",
    "\n",
    "for itrain, itest in kf:\n",
    "    x_tr, x_te = x_train.iloc[itrain,:], x_train.iloc[itest,:]\n",
    "    y_tr, y_te = y_train.iloc[itrain], y_train.iloc[itest]\n",
    "   \n",
    "  \n",
    "    ada_cls.fit(x_tr,y_tr)\n",
    "    rd_cls.fit(x_tr,y_tr)\n",
    "    rf_cls.fit(x_tr,y_tr)\n",
    "  ##  sv_cls.fit(x_tr,y_tr)\n",
    "    \n",
    "    out1 = ada_cls.predict(x_te)\n",
    "    out2 = rd_cls.predict(x_te)\n",
    "    out3 = rf_cls.predict(x_te)\n",
    " ##   out4 = sv_cls.predict(x_te)\n",
    "    \n",
    "    outp1 = ada_cls.predict_proba(x_te)\n",
    "    outp2 = rd_cls.decision_function(x_te)\n",
    "    outp3 = rf_cls.predict_proba(x_te)\n",
    " ##   outp4 = sv_cls.decision_function(x_te)\n",
    "    \n",
    "    outp1 = sp.array([outp1[i,1] for i in sp.arange(0,len(outp1))])\n",
    "    outp2 = 0.4875*outp2/2+0.5\n",
    "    outp3 = sp.array([outp3[i,1] for i in sp.arange(0,len(outp3))])\n",
    "##    outp4 = 0.4875*outp4/2+0.5\n",
    "    \n",
    "    out = (out1+out2+out3)/3>0.5\n",
    "    outp = (outp1+outp2+outp3)/3>0.5\n",
    "    errors['out'].append(sp.mean(out==y_te))\n",
    "    errors['outp'].append(sp.mean(outp==y_te))\n",
    "  \n",
    "print(sp.mean(errors['out']), sp.std(errors['out']))\n",
    "print(sp.mean(errors['outp']), sp.std(errors['outp']))"
   ]
  },
  {
   "cell_type": "code",
   "execution_count": 18,
   "metadata": {
    "collapsed": false
   },
   "outputs": [
    {
     "name": "stderr",
     "output_type": "stream",
     "text": [
      "C:\\Python34\\lib\\site-packages\\sklearn\\metrics\\ranking.py:496: UndefinedMetricWarning: No positive samples in y_true, true positive value should be meaningless\n",
      "  UndefinedMetricWarning)\n"
     ]
    },
    {
     "data": {
      "image/png": "[encoded data removed]",
      "text/plain": [
       "<matplotlib.figure.Figure at 0x850f4b0>"
      ]
     },
     "metadata": {},
     "output_type": "display_data"
    }
   ],
   "source": [
    "ada_cls.fit(x_train, y_train)\n",
    "rd_cls.fit(x_train, y_train)\n",
    "rf_cls.fit(x_train, y_train)\n",
    "sv_cls.fit(x_train, y_train)\n",
    "\n",
    "\n",
    "outp1 = ada_cls.predict_proba(x_test)\n",
    "outp2 = rd_cls.decision_function(x_test)\n",
    "outp3 = rf_cls.predict_proba(x_test)\n",
    "outp4 = sv_cls.decision_function(x_test)\n",
    "\n",
    "outp1 = sp.array([outp1[i,1] for i in sp.arange(0,len(outp1))])\n",
    "outp2 = 0.4875*outp2/2+0.5\n",
    "outp3 = sp.array([outp3[i,1] for i in sp.arange(0,len(outp3))])\n",
    "outp4 = 0.4875*outp4/2+0.5\n",
    "\n",
    "outp = (outp1+outp2+outp3)/3\n",
    "\n",
    "plotRocCurve(y_test, outp1, \"Ada\")\n",
    "plotRocCurve(y_test, outp2, \"Ridge\")\n",
    "plotRocCurve(y_test, outp3, \"RF\")\n",
    "plotRocCurve(y_test, outp4, \"SV\")\n",
    "plotRocCurve(y_test, outp, \"Combo of 3\")"
   ]
  },
  {
   "cell_type": "markdown",
   "metadata": {},
   "source": [
    "###Prediction"
   ]
  },
  {
   "cell_type": "code",
   "execution_count": 14,
   "metadata": {
    "collapsed": false
   },
   "outputs": [],
   "source": [
    "x_train = d_train.drop(['Survived','PassengerId'],1)\n",
    "y_train = d_train.Survived\n",
    "x_test = df_full.loc[df_full.Survived.isnull(),:].drop(['Survived','PassengerId'],1)\n",
    "y_test = [0]*len(x_test)\n",
    "\n",
    "outp = outp>0.5"
   ]
  },
  {
   "cell_type": "code",
   "execution_count": 15,
   "metadata": {
    "collapsed": false
   },
   "outputs": [],
   "source": [
    "result = pd.DataFrame({'PassengerId': df_full.loc[df_full.Survived.isnull(),'PassengerId'].astype(int), \n",
    "                       'Survived': outp.astype(int)})\n",
    "result.to_csv(submit_path+\"/result_rf.csv\", index=False)"
   ]
  },
  {
   "cell_type": "code",
   "execution_count": null,
   "metadata": {
    "collapsed": true
   },
   "outputs": [],
   "source": []
  }
 ],
 "metadata": {
  "kernelspec": {
   "display_name": "Python 3",
   "language": "python",
   "name": "python3"
  },
  "language_info": {
   "codemirror_mode": {
    "name": "ipython",
    "version": 3
   },
   "file_extension": ".py",
   "mimetype": "text/x-python",
   "name": "python",
   "nbconvert_exporter": "python",
   "pygments_lexer": "ipython3",
   "version": "3.4.3"
  }
 },
 "nbformat": 4,
 "nbformat_minor": 0
}
