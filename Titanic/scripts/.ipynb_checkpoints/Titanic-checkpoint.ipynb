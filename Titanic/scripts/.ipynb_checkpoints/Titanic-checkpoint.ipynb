{
 "cells": [
  {
   "cell_type": "code",
   "execution_count": 2,
   "metadata": {
    "collapsed": false
   },
   "outputs": [
    {
     "name": "stdout",
     "output_type": "stream",
     "text": [
      "Populating the interactive namespace from numpy and matplotlib\n"
     ]
    }
   ],
   "source": [
    "import pandas as pd\n",
    "import scipy as sp\n",
    "from sklearn.ensemble import RandomForestClassifier, RandomForestRegressor\n",
    "from sklearn.grid_search import GridSearchCV\n",
    "from sklearn.cross_validation import train_test_split,StratifiedShuffleSplit,StratifiedKFold, cross_val_score\n",
    "from sklearn.tree import DecisionTreeClassifier, export_graphviz\n",
    "import json as js\n",
    "import pickle as pkl\n",
    "from sklearn.preprocessing import Imputer\n",
    "from sklearn.pipeline import Pipeline\n",
    "from scipy  import stats\n",
    "from sklearn import preprocessing\n",
    "from sklearn.decomposition import PCA\n",
    "import re\n",
    "import os\n",
    "from sklearn.externals.six import StringIO\n",
    "import matplotlib.pyplot as plt\n",
    "import pydot\n",
    "\n",
    "%pylab inline"
   ]
  },
  {
   "cell_type": "code",
   "execution_count": 3,
   "metadata": {
    "collapsed": true
   },
   "outputs": [],
   "source": [
    "def reFind(str, x, na):\n",
    "    ar = re.compile(str).findall(x)\n",
    "    if len(ar) ==0:\n",
    "        return na\n",
    "    else:\n",
    "        return ar[0]"
   ]
  },
  {
   "cell_type": "code",
   "execution_count": 4,
   "metadata": {
    "collapsed": true
   },
   "outputs": [],
   "source": [
    "def prepareData(df, seed):\n",
    "    \n",
    "    print('cleaning features...')\n",
    "    scaler = preprocessing.StandardScaler()\n",
    "\n",
    "    ##-- Cabin --\n",
    "    df['CabinNA'] = df.Cabin.isnull()\n",
    "    df.Cabin = df.Cabin.fillna('U0')\n",
    "\n",
    "    df['CabinFactor'] = pd.factorize(df.Cabin)[0]\n",
    "\n",
    "    df['CabinLetter'] = df.Cabin.map(lambda x: reFind(\"([a-zA-z]+)\", x, ''))\n",
    "    dum = pd.get_dummies(df.CabinLetter,prefix='CabinLetter')\n",
    "    df = pd.concat([df, dum], 1)\n",
    "    df['CabinLetterFactor'] = df.CabinLetter.map({'A':0,\n",
    "                                                  'B':1,\n",
    "                                                  'C':2,\n",
    "                                                  'D':3,\n",
    "                                                  'E':4,\n",
    "                                                  'F':5,\n",
    "                                                  'G':6,\n",
    "                                                  'T':7,\n",
    "                                                  'U':8})\n",
    "    df['CabinLetterBin'] = df.CabinLetter.map({'A':0,\n",
    "                                                  'B':0,\n",
    "                                                  'C':0,\n",
    "                                                  'D':1,\n",
    "                                                  'E':1,\n",
    "                                                  'F':1,\n",
    "                                                  'G':2,\n",
    "                                                  'T':2,\n",
    "                                                  'U':2})\n",
    "    \n",
    "\n",
    "    df['CabinNumber'] = df.Cabin.map(lambda x: reFind(\"([0-9]+)\", x, '0')).astype(int)\n",
    "    ##df['CabinNumberBin'] = df.CabinNumber.map(lambda x: )\n",
    "    ##df['CabinNumberBin'] = pd.qcut(df.CabinNumber,3)\n",
    "    ##df.CabinNumberBin = pd.factorize(df.CabinNumberBin)[0]\n",
    "    \n",
    "    ##-- Embarked --\n",
    "    df.Embarked = df.Embarked.fillna(df.Embarked.mode()[0])\n",
    "\n",
    "    df['EmbarkedFactor'] = pd.factorize(df.Embarked)[0]\n",
    "\n",
    "    dum = pd.get_dummies(df.Embarked,prefix='Embarked')\n",
    "    df = pd.concat([df, dum], 1)\n",
    "    \n",
    "    ##-- Fare --\n",
    "    fare_med = pd.pivot_table(df,values='Fare', index='Pclass', aggfunc='median')\n",
    "    \n",
    "    df.Fare = df[['Fare','Pclass']].apply(lambda x: fare_med[int(x.Pclass)] if pd.isnull(x.Fare) else x.Fare, 1)\n",
    "\n",
    "##    df['FareScaled'] = scaler.fit_transform(df.Fare)\n",
    "    \n",
    "    df['FareBin'] = pd.qcut(df.Fare,5)\n",
    "    df.FareBin = pd.factorize(df.FareBin)[0]\n",
    "    \n",
    "    ##-- Age --\n",
    "    df['AgeNA'] = df.Age.isnull()\n",
    "    \n",
    "    knownAge = df.loc[df.Age.notnull(),:]\n",
    "    unknownAge = df.loc[df.Age.isnull(),:]\n",
    "    dropCol = ['Age','Survived','Cabin','Embarked','Name','Sex','Ticket','CabinLetter','CabinNumber']\n",
    "    x_train = knownAge.drop(dropCol,1)\n",
    "    y_train = knownAge.Age\n",
    "    x_test = unknownAge.drop(dropCol,1)\n",
    "    rfr = RandomForestRegressor(n_estimators=2000, n_jobs=-1, random_state = seed)\n",
    "    rfr.fit(x_train,y_train)\n",
    "    df.loc[unknownAge.index,'Age'] = rfr.predict(x_test)\n",
    "\n",
    "    \n",
    "##    df['AgeScaled'] = scaler.fit_transform(df.Age)\n",
    "\n",
    "    df['AgeBin'] = pd.qcut(df.Age,5)\n",
    "    df.AgeBin = pd.factorize(df.AgeBin)[0]\n",
    "\n",
    "    ##-- Parch --\n",
    "    ##df['ParchBin']=pd.qcut(df.Parch, 3)\n",
    "    ##df.ParchBin = pd.factorize(df.ParchBin)[0]\n",
    "\n",
    "    ##-- Sex --\n",
    "    df.Sex = pd.factorize(df.Sex)[0]\n",
    "\n",
    "    ##-- SibSp --\n",
    "    ##df['SibSpBin']=pd.qcut(df.SibSp, 2)\n",
    "    ##df.SibSpBin = pd.factorize(df.SibSpBin)[0]\n",
    "    \n",
    "\n",
    "    ##-- Name --\n",
    "    df['NameLen'] = df.Name.map(lambda x: len(re.split(' ',x)))\n",
    "\n",
    "    df['Title'] = df.Name.map(lambda x: re.compile(\", (.*?)\\.\").findall(x)[0])\n",
    "    titles={'Master': ['Jonkheer'],\n",
    "            'Miss': ['Ms', 'Mlle'],\n",
    "            'Mrs': ['Mme'],\n",
    "            'Sir': ['Capt','Don','Major','Col'],\n",
    "            'Lady': ['Dona', 'the Countess']}\n",
    "    df['TitleBin']=df.Title\n",
    "    for i in titles:\n",
    "        df.loc[df.Title.isin(titles[i]),'TitleBin'] = i\n",
    "    dum = pd.get_dummies(df.TitleBin, prefix='Title')\n",
    "    df = pd.concat([df,dum],1)\n",
    "    df.TitleBin = pd.factorize(df.TitleBin)[0]\n",
    "\n",
    "    df['Surname'] = df.Name.map(lambda x: re.split(' ',x)[0])\n",
    "    \n",
    "\n",
    "    ##-- Ticket --\n",
    "    df['TicketPrefix'] = df.Ticket.map(lambda x: reFind(\"([a-zA-z\\.\\/]+)\", x, ''))\n",
    "    df['TicketPrefix'] = df.TicketPrefix.map(lambda x: re.sub(\"[\\.\\/]\",'',x))\n",
    "    dum = pd.get_dummies(df.TicketPrefix, prefix='TicketPrefix')\n",
    "    df = pd.concat([df,dum],1)\n",
    "    df.TicketPrefix = pd.factorize(df.TicketPrefix)[0]\n",
    "\n",
    "    df['TicketNumber'] = df.Ticket.map(lambda x: reFind(\"([\\d]+$)\", x, '0')).astype(int)\n",
    "    df['TicketNumberLen'] = df.TicketNumber.map(lambda x: len(str(x))).astype(int)\n",
    "    df['TicketNumberFD'] = df.TicketNumber.map(lambda x: str(x)[0]).astype(int)\n",
    "\n",
    "    df['TicketNumberBin'] = pd.qcut(df.TicketNumber, 10)\n",
    "    df.TicketNumberBin = pd.factorize(df.TicketNumberBin)[0]\n",
    "\n",
    "\n",
    "    ##-- new features --\n",
    "    print('making new features...')\n",
    "    df['FamilySize'] = df.Parch+df.SibSp\n",
    "    \n",
    "    df['FamilyId'] = df[['FamilySize','Surname']].apply(lambda x: x.Surname+str(x.FamilySize),1)\n",
    "    df.FamilyId = pd.factorize(df.FamilyId)[0]\n",
    "\n",
    "##    columns = ['Pclass','Sex','SibSp','Parch','CabinFactor', 'CabinLetterFactor','CabinNumber','EmbarkedFactor','Fare','Age','NameLen','TitleBin','TicketPrefix','TicketNumber','TicketNumberLen','FamilySize','FamilyId']\n",
    "##    for i,iel in enumerate(columns):\n",
    "##        for j,jel in enumerate(columns):\n",
    "##            if i < j:\n",
    "##                df[iel+\"+\"+jel] = df[iel]+df[jel]\n",
    "##            if i <= j:\n",
    "##                df[iel+\"*\"+jel] = df[iel]*df[jel]\n",
    "##            if i != j:\n",
    "##                df[iel+\"/\"+jel] = df[iel]/df[jel].astype(float)\n",
    "##                df[iel+\"-\"+jel] = df[iel]-df[jel]\n",
    "##\n",
    "    ##y = df.Survived\n",
    "##\n",
    "    df = df.drop(['Cabin', 'Embarked', 'Name', 'Ticket', 'CabinLetter', 'Title', 'Surname','PassengerId'],1)\n",
    "##    \n",
    "##    have_null = sp.sum(pd.isnull(df))\n",
    "##    df = df.drop(have_null[have_null>0].index.tolist(),1)\n",
    "##\n",
    "##    have_inf = [k for k in df.columns if sp.sum(sp.isinf(df[k]))>0]\n",
    "##    df = df.drop(have_inf,1)\n",
    "        \n",
    "    ##-- check correlated features --\n",
    "    ##print('deleting correlated features...')\n",
    "##    df_corr = df.corr(method = 'spearman')\n",
    "##    mask = sp.ones(df_corr.columns.size) - sp.eye(df_corr.columns.size)\n",
    "##    df_corr = df_corr*mask\n",
    "##    dels=[]\n",
    "##    for i in df_corr.columns:\n",
    "##        if i in dels:\n",
    "##            continue\n",
    "##        inds = df_corr.loc[abs(df_corr[i])>=0.98,i].index.tolist()\n",
    "##        for ind in inds:\n",
    "##            if ind not in dels:\n",
    "##                dels.append(ind)\n",
    "##    df = df.drop(dels,1)\n",
    "\n",
    "    \n",
    "    ##-- PCA --\n",
    "##    print('making pca...')\n",
    "##    pca=PCA(0.9999999999)\n",
    "##    Xtrans = pca.fit_transform(df)\n",
    "    ##df = pd.concat([df, y],1)\n",
    "    return df"
   ]
  },
  {
   "cell_type": "markdown",
   "metadata": {},
   "source": [
    "###Reading settings"
   ]
  },
  {
   "cell_type": "code",
   "execution_count": 5,
   "metadata": {
    "collapsed": false
   },
   "outputs": [],
   "source": [
    "config = js.loads(open('../SETTINGS.json').read())\n",
    "train_path = \"../\"+config[\"TRAIN_DATA_PATH\"]\n",
    "test_path = \"../\"+config[\"TEST_DATA_PATH\"]\n",
    "model_path = \"../\"+config[\"MODEL_PATH\"]\n",
    "seeed = int(config[\"SEED\"])"
   ]
  },
  {
   "cell_type": "markdown",
   "metadata": {},
   "source": [
    "###Getting data"
   ]
  },
  {
   "cell_type": "code",
   "execution_count": 6,
   "metadata": {
    "collapsed": false
   },
   "outputs": [
    {
     "name": "stdout",
     "output_type": "stream",
     "text": [
      "cleaning features...\n",
      "making new features...\n"
     ]
    }
   ],
   "source": [
    "df_train = pd.read_csv(train_path+\"/train.csv\")\n",
    "df_test = pd.read_csv(test_path+\"/test.csv\")\n",
    "\n",
    "df_full = pd.concat([df_train,df_test])\n",
    "df_full = df_full.reset_index()\n",
    "df_full = df_full.drop('index',1)\n",
    "\n",
    "\n",
    "df_full = prepareData(df_full, seeed)\n",
    "d_train = df_full.loc[df_full.Survived.notnull(),:]\n",
    "\n",
    "x_train = d_train.drop('Survived',1)\n",
    "y_train = d_train.Survived\n",
    "\n",
    "x_train, x_test, y_train, y_test = train_test_split(x_train, y_train, test_size=0.2, random_state=seeed)"
   ]
  },
  {
   "cell_type": "markdown",
   "metadata": {
    "collapsed": true
   },
   "source": [
    "###Simple decision tree"
   ]
  },
  {
   "cell_type": "code",
   "execution_count": 7,
   "metadata": {
    "collapsed": false,
    "scrolled": true
   },
   "outputs": [
    {
     "name": "stdout",
     "output_type": "stream",
     "text": [
      "0.77094972067\n"
     ]
    }
   ],
   "source": [
    "dt_cls = DecisionTreeClassifier(criterion='gini', splitter='best', max_depth=None, min_samples_split=5, min_samples_leaf=1, \n",
    "                                min_weight_fraction_leaf=0.0, max_features=None, random_state=seeed, max_leaf_nodes=None, \n",
    "                                class_weight=None)\n",
    "dt_cls.fit(x_train, y_train)\n",
    "print(dt_cls.score(x_test,y_test))\n",
    "\n"
   ]
  },
  {
   "cell_type": "code",
   "execution_count": 9,
   "metadata": {
    "collapsed": false
   },
   "outputs": [
    {
     "name": "stderr",
     "output_type": "stream",
     "text": [
      "[Parallel(n_jobs=4)]: Done   1 jobs       | elapsed:    1.7s\n",
      "[Parallel(n_jobs=4)]: Done  50 jobs       | elapsed:    5.2s\n",
      "[Parallel(n_jobs=4)]: Done 200 jobs       | elapsed:    6.4s\n",
      "[Parallel(n_jobs=4)]: Done 450 jobs       | elapsed:    8.5s\n",
      "[Parallel(n_jobs=4)]: Done 800 jobs       | elapsed:   11.8s\n",
      "[Parallel(n_jobs=4)]: Done 1250 jobs       | elapsed:   16.5s\n",
      "[Parallel(n_jobs=4)]: Done 1800 jobs       | elapsed:   21.8s\n",
      "[Parallel(n_jobs=4)]: Done 2450 jobs       | elapsed:   28.0s\n",
      "[Parallel(n_jobs=4)]: Done 3200 jobs       | elapsed:   35.3s\n",
      "[Parallel(n_jobs=4)]: Done 4050 jobs       | elapsed:   43.5s\n",
      "[Parallel(n_jobs=4)]: Done 5000 jobs       | elapsed:   53.7s\n",
      "[Parallel(n_jobs=4)]: Done 6050 jobs       | elapsed:  1.1min\n",
      "[Parallel(n_jobs=4)]: Done 7200 jobs       | elapsed:  1.3min\n",
      "[Parallel(n_jobs=4)]: Done 8450 jobs       | elapsed:  1.5min\n",
      "[Parallel(n_jobs=4)]: Done 9800 jobs       | elapsed:  1.9min\n",
      "[Parallel(n_jobs=4)]: Done 11250 jobs       | elapsed:  2.2min\n",
      "[Parallel(n_jobs=4)]: Done 12800 jobs       | elapsed:  2.5min\n",
      "[Parallel(n_jobs=4)]: Done 14450 jobs       | elapsed:  2.9min\n",
      "[Parallel(n_jobs=4)]: Done 16200 jobs       | elapsed:  3.4min\n",
      "[Parallel(n_jobs=4)]: Done 18050 jobs       | elapsed:  3.8min\n",
      "[Parallel(n_jobs=4)]: Done 20000 jobs       | elapsed:  4.3min\n",
      "[Parallel(n_jobs=4)]: Done 22050 jobs       | elapsed:  4.8min\n",
      "[Parallel(n_jobs=4)]: Done 24200 jobs       | elapsed:  5.2min\n",
      "[Parallel(n_jobs=4)]: Done 26450 jobs       | elapsed:  5.8min\n",
      "[Parallel(n_jobs=4)]: Done 28800 jobs       | elapsed:  6.4min\n",
      "[Parallel(n_jobs=4)]: Done 31250 jobs       | elapsed:  6.9min\n",
      "[Parallel(n_jobs=4)]: Done 33800 jobs       | elapsed:  7.6min\n",
      "[Parallel(n_jobs=4)]: Done 36450 jobs       | elapsed:  8.2min\n",
      "[Parallel(n_jobs=4)]: Done 39200 jobs       | elapsed:  8.7min\n",
      "[Parallel(n_jobs=4)]: Done 40000 out of 40000 | elapsed:  8.9min finished\n"
     ]
    },
    {
     "name": "stdout",
     "output_type": "stream",
     "text": [
      "Fitting 5 folds for each of 8000 candidates, totalling 40000 fits\n"
     ]
    },
    {
     "data": {
      "text/plain": [
       "GridSearchCV(cv=5, error_score='raise',\n",
       "       estimator=DecisionTreeClassifier(class_weight=None, criterion='gini', max_depth=None,\n",
       "            max_features=None, max_leaf_nodes=None, min_samples_leaf=1,\n",
       "            min_samples_split=5, min_weight_fraction_leaf=0.0,\n",
       "            random_state=1, splitter='best'),\n",
       "       fit_params={}, iid=True, loss_func=None, n_jobs=4,\n",
       "       param_grid={'min_samples_leaf': array([ 1,  2,  3,  4,  5,  6,  7,  8,  9, 10, 11, 12, 13, 14, 15, 16, 17,\n",
       "       18, 19, 20, 21, 22, 23, 24, 25, 26, 27, 28, 29, 30, 31, 32, 33, 34,\n",
       "       35, 36, 37, 38, 39, 40]), 'min_samples_split': array([ 1,  2,  3,  4,  5,  6,  7,  8,  9, 10, 11, 12, 13, 14, 15, 16, 17,\n",
       "       18, 19, 20]), 'max_depth': array([ 1,  2,  3,  4,  5,  6,  7,  8,  9, 10])},\n",
       "       pre_dispatch='2*n_jobs', refit=True, score_func=None, scoring=None,\n",
       "       verbose=1)"
      ]
     },
     "execution_count": 9,
     "metadata": {},
     "output_type": "execute_result"
    }
   ],
   "source": [
    "params={\n",
    "    \"max_depth\": sp.arange(1,11),\n",
    "    \"min_samples_split\": sp.arange(1,21),\n",
    "    \"min_samples_leaf\": sp.arange(1,41)\n",
    "}\n",
    "gs = GridSearchCV(dt_cls, params, scoring=None, loss_func=None, score_func=None, \n",
    "                  fit_params=None, n_jobs=4, iid=True, refit=True, cv=5, verbose=1, \n",
    "                  pre_dispatch='2*n_jobs', error_score='raise')\n",
    "gs.fit(x_train, y_train)"
   ]
  },
  {
   "cell_type": "code",
   "execution_count": 10,
   "metadata": {
    "collapsed": false
   },
   "outputs": [
    {
     "name": "stdout",
     "output_type": "stream",
     "text": [
      "{'min_samples_leaf': 32, 'min_samples_split': 1, 'max_depth': 3}\n",
      "0.823033707865\n"
     ]
    }
   ],
   "source": [
    "print(gs.best_params_)\n",
    "print(gs.best_score_)"
   ]
  },
  {
   "cell_type": "markdown",
   "metadata": {},
   "source": [
    "- best-params: {'max_depth': 3, 'min_samples_leaf': 32, 'min_samples_split': 1}\n",
    "- best-score: 0.8230337078651685"
   ]
  },
  {
   "cell_type": "code",
   "execution_count": 30,
   "metadata": {
    "collapsed": false
   },
   "outputs": [
    {
     "data": {
      "text/plain": [
       "[<matplotlib.lines.Line2D at 0x9cd0b30>]"
      ]
     },
     "execution_count": 30,
     "metadata": {},
     "output_type": "execute_result"
    },
    {
     "data": {
      "image/png": "[encoded data removed]",
      "text/plain": [
       "<matplotlib.figure.Figure at 0x9dced10>"
      ]
     },
     "metadata": {},
     "output_type": "display_data"
    }
   ],
   "source": [
    "min_splits=[]\n",
    "max_depths=[]\n",
    "min_leafs=[]\n",
    "errors = []\n",
    "stds=[]\n",
    "for el in gs.grid_scores_:\n",
    "    min_splits.append(el.parameters['min_samples_split'])\n",
    "    max_depths.append(el.parameters['max_depth'])\n",
    "    min_leafs.append(el.parameters['min_samples_leaf'])\n",
    "    errors.append(el.mean_validation_score)\n",
    "    stds.append(std(el.cv_validation_scores))\n",
    "errdf = pd.DataFrame({\"min_splits\":min_splits, \"max_depths\": max_depths, \"min_leafs\": min_leafs, \"error\": errors, \"std\": stds})\n",
    "errdf.to_csv(\"dt_cls_err.csv\")\n",
    "\n",
    "figure(figsize=(20, 3), dpi=80)\n",
    "subplot(1,3,1)\n",
    "ms = pd.pivot_table(data=errdf, values=[\"error\",\"std\"], index=\"min_splits\", aggfunc=\"mean\")\n",
    "plot(ms.index, ms.error)\n",
    "subplot(1,3,2)\n",
    "ms = pd.pivot_table(data=errdf, values=[\"error\",\"std\"], index=\"max_depths\", aggfunc=\"mean\")\n",
    "plot(ms.index, ms.error)\n",
    "subplot(1,3,3)\n",
    "ms = pd.pivot_table(data=errdf, values=[\"error\",\"std\"], index=\"min_leafs\", aggfunc=\"mean\")\n",
    "plot(ms.index, ms.error)"
   ]
  },
  {
   "cell_type": "code",
   "execution_count": 31,
   "metadata": {
    "collapsed": false
   },
   "outputs": [
    {
     "data": {
      "text/plain": [
       "0.7988826815642458"
      ]
     },
     "execution_count": 31,
     "metadata": {},
     "output_type": "execute_result"
    }
   ],
   "source": [
    "gs.score(x_test,y_test)"
   ]
  }
 ],
 "metadata": {
  "kernelspec": {
   "display_name": "Python 3",
   "language": "python",
   "name": "python3"
  },
  "language_info": {
   "codemirror_mode": {
    "name": "ipython",
    "version": 3
   },
   "file_extension": ".py",
   "mimetype": "text/x-python",
   "name": "python",
   "nbconvert_exporter": "python",
   "pygments_lexer": "ipython3",
   "version": "3.4.3"
  }
 },
 "nbformat": 4,
 "nbformat_minor": 0
}
